{
 "cells": [
  {
   "cell_type": "markdown",
   "id": "256a3410",
   "metadata": {},
   "source": [
    "## Данные из приложения по доставке готовых продуктов\n",
    "\n",
    "1. В первом тестировали разрешение фотографий блюд в приложении: пользователям показывались либо прямоугольные, либо новые квадратные\n",
    "\n",
    "\n",
    "2. Во втором: была обновлена кнопка заказа, и часть юзеров видела старый вариант, а часть – новый\n",
    "\n",
    "### Задача\n",
    "\n",
    "Проверить гипотезы о наличии различий, сделать соответствующие выводы на основе статистических тестов и принять решения.\n",
    "\n",
    "### Задания\n",
    "1. Выберите метод, который предположительно подойдет в первом вопросе.\n",
    "\n",
    "\n",
    "2. Проверьте, являются ли дисперсии внутри групп гомогенными.\n",
    "\n",
    "\n",
    "3. Проведите тест на нормальность распределения.\n",
    "\n",
    "\n",
    "4. Сравните средние в представленных группах.\n",
    "\n",
    "\n",
    "5. Используйте критерий Тьюки и определите, между какими группами есть статистически значимые различия. \n",
    "\n",
    "\n",
    "6. Примите решение: какие картинки в итоге будем использовать?\n",
    "\n",
    "\n",
    "7. Выберите метод для второго теста.\n",
    "\n",
    "\n",
    "8. Визуализируйте распределение events для контрольной и тестовой групп. \n",
    "\n",
    "\n",
    "9. Посмотрите на описательные статистики events в разбивке по группе и по сегменту пользователя. \n",
    "\n",
    "\n",
    "10. Выберите формулу для модели, проведите тест.\n",
    "\n"
   ]
  },
  {
   "cell_type": "markdown",
   "id": "1a382d0d",
   "metadata": {},
   "source": [
    "### Описание данных\n",
    "\n",
    "5_task_1:\n",
    "\n",
    "\n",
    "id – id клиента в эксперименте  \n",
    "group – в каком разрешении показывались картинки (A – прямоугольные 16:9, B – квадратные, C – прямоугольные 12:4)  \n",
    "events – сколько блюд суммарно было заказано за период  \n",
    "\n",
    "\n",
    "5_task_2:\n",
    "\n",
    "\n",
    "id – id клиента в эксперименте  \n",
    "segment – сегмент (high/low)  \n",
    "group – вид кнопки (control – старая версия, test – новая версия)  \n",
    "events – сколько блюд суммарно было заказано за период  "
   ]
  },
  {
   "cell_type": "markdown",
   "id": "c3f94868",
   "metadata": {},
   "source": [
    "### SUMMARY \n",
    "\n",
    "1. Оценила гомогенность дисперсии внутри групп с помощью теста Левена, где не смогла отвергнуть Ho о  том, что группы гомогенны.\n",
    "\n",
    "\n",
    "2. Провела тест Шапиро-Уилка для оценки нормальности распределения, предварительно проведя сэмплирование для каждой группы. pvalue > 0.05 для всех групп, значит не отвергаем Ho о том, что распределения нормальны. \n",
    "\n",
    "\n",
    "3. После этого оценила, является ли статистически значимым различия между средним количеством блюд в зависимости от картинки.  \n",
    "Так как здесь 1 номинативная переменная(размер картинки) - провела однофакторный дисперсионный анализ(Фишера), где H0 о том, что различий между группами нет, была отвергнута. \n",
    "\n",
    "\n",
    "4. После этого, использовала тест Тьюки, чтобы сравнить группы попарно и определить, между какими именно группами  есть различия( во всех 3 попарных сравнениях была отвергнута Ho гипотеза о отсутствии различий)\n",
    "\n",
    "\n",
    "5. Визуализировала полученные данные с помощью pointplot.   \n",
    "Для группы B(квадратные картинки) было большее число покупок,а значит можем использовать их после проведенного стат. исследования \n",
    "\n",
    "\n",
    "6. Для данных о изменении размера кнопки изначально оценила различия между медианным и средним значением для контрольной и тестовой группы \n",
    "\n",
    "\n",
    "7. Провела множественный дисперсионный анализ(anova) так как 2 номинативные переменные(группа, сегмент группы) и 1 дискретная. \n",
    "\n",
    "\n",
    "8. После провела тест Тьюки, т.к. anova повышает риск ошибки первого рода.\n",
    "\n",
    "\n",
    "9. При сравнении control/test - Ho о отсутствии стат. различий была отвергнута.  \n",
    "Следовательно положительная  разница между  (test/high - control/high),  а так же (test/low - control/low) - стат. достоверна и доказывает, что изменение размера кнопки в тестовых группах привела к увеличению количества событий. \n",
    "\n"
   ]
  },
  {
   "cell_type": "code",
   "execution_count": 70,
   "id": "14554865",
   "metadata": {},
   "outputs": [],
   "source": [
    "#импортируем библиотеки\n",
    "import pandas as pd\n",
    "\n",
    "import numpy as np\n",
    "from scipy import stats\n",
    "\n",
    "import matplotlib.pyplot as plt\n",
    "import seaborn as sns\n"
   ]
  },
  {
   "cell_type": "code",
   "execution_count": 94,
   "id": "965a3410",
   "metadata": {},
   "outputs": [],
   "source": [
    "from scipy import stats\n",
    "from scipy.stats import f_oneway\n",
    "from statsmodels.stats.multicomp import (pairwise_tukeyhsd,\n",
    "                                         MultiComparison)\n",
    "import statsmodels.formula.api as smf\n",
    "from statsmodels.stats.anova import anova_lm\n"
   ]
  },
  {
   "cell_type": "code",
   "execution_count": 14,
   "id": "2bfb99ca",
   "metadata": {},
   "outputs": [],
   "source": [
    "df_1 = pd.read_csv('/Users/kamilamur/data from course/5_task_1.csv')\n",
    "df_2 = pd.read_csv('/Users/kamilamur/data from course/5_task_2.csv')"
   ]
  },
  {
   "cell_type": "code",
   "execution_count": 12,
   "id": "3073cfa3",
   "metadata": {},
   "outputs": [
    {
     "data": {
      "text/html": [
       "<div>\n",
       "<style scoped>\n",
       "    .dataframe tbody tr th:only-of-type {\n",
       "        vertical-align: middle;\n",
       "    }\n",
       "\n",
       "    .dataframe tbody tr th {\n",
       "        vertical-align: top;\n",
       "    }\n",
       "\n",
       "    .dataframe thead th {\n",
       "        text-align: right;\n",
       "    }\n",
       "</style>\n",
       "<table border=\"1\" class=\"dataframe\">\n",
       "  <thead>\n",
       "    <tr style=\"text-align: right;\">\n",
       "      <th></th>\n",
       "      <th>id</th>\n",
       "      <th>group</th>\n",
       "      <th>events</th>\n",
       "    </tr>\n",
       "  </thead>\n",
       "  <tbody>\n",
       "    <tr>\n",
       "      <th>0</th>\n",
       "      <td>16046</td>\n",
       "      <td>A</td>\n",
       "      <td>14</td>\n",
       "    </tr>\n",
       "    <tr>\n",
       "      <th>1</th>\n",
       "      <td>18712</td>\n",
       "      <td>A</td>\n",
       "      <td>41</td>\n",
       "    </tr>\n",
       "    <tr>\n",
       "      <th>2</th>\n",
       "      <td>3268</td>\n",
       "      <td>A</td>\n",
       "      <td>30</td>\n",
       "    </tr>\n",
       "    <tr>\n",
       "      <th>3</th>\n",
       "      <td>22633</td>\n",
       "      <td>A</td>\n",
       "      <td>37</td>\n",
       "    </tr>\n",
       "    <tr>\n",
       "      <th>4</th>\n",
       "      <td>28071</td>\n",
       "      <td>A</td>\n",
       "      <td>38</td>\n",
       "    </tr>\n",
       "  </tbody>\n",
       "</table>\n",
       "</div>"
      ],
      "text/plain": [
       "      id group  events\n",
       "0  16046     A      14\n",
       "1  18712     A      41\n",
       "2   3268     A      30\n",
       "3  22633     A      37\n",
       "4  28071     A      38"
      ]
     },
     "execution_count": 12,
     "metadata": {},
     "output_type": "execute_result"
    }
   ],
   "source": [
    "df_1.head()"
   ]
  },
  {
   "cell_type": "code",
   "execution_count": 24,
   "id": "8d381f05",
   "metadata": {},
   "outputs": [
    {
     "data": {
      "text/plain": [
       "LeveneResult(statistic=2.2622596339318037, pvalue=0.1041327199523974)"
      ]
     },
     "execution_count": 24,
     "metadata": {},
     "output_type": "execute_result"
    }
   ],
   "source": [
    "#Необходимо оценить какой формат фотографий блюд является наилучшим\n",
    "#т.е. в какой из групп в среднем покупали больше всего.\n",
    "\n",
    "#Оценим гомогенность дисперсии внутрии групп с помощью теста Левена \n",
    "a_gropup = df_1.query('group==\"A\"').events\n",
    "b_gropup = df_1.query('group==\"B\"').events\n",
    "c_gropup = df_1.query('group==\"C\"').events\n",
    "\n",
    "stats.levene(a_gropup,b_gropup,c_gropup) #p>0.05 - значит, мы не отвергаем H0 о гомогенности дисперсий\n"
   ]
  },
  {
   "cell_type": "code",
   "execution_count": 42,
   "id": "9bf11e83",
   "metadata": {},
   "outputs": [],
   "source": [
    "#Проверяем на нормальность с помощью теста Шапиро-Вилка \n",
    "\n",
    "#Проводим сэмплирование на небольшой выборке из каждой группы\n",
    "\n",
    "a_sample = df_1.query('group==\"A\"').events.sample(1000,random_state=17)\n",
    "b_sample = df_1.query('group==\"B\"').events.sample(1000,random_state=17)\n",
    "c_sample = df_1.query('group==\"C\"').events.sample(1000,random_state=17)\n"
   ]
  },
  {
   "cell_type": "code",
   "execution_count": 43,
   "id": "5f16a8f8",
   "metadata": {},
   "outputs": [
    {
     "data": {
      "text/plain": [
       "ShapiroResult(statistic=0.9973153471946716, pvalue=0.09609563648700714)"
      ]
     },
     "execution_count": 43,
     "metadata": {},
     "output_type": "execute_result"
    }
   ],
   "source": [
    "#Проводим тест Шапиро-Вилка для каждой группы\n",
    "#Ho - что распределение является нормальным \n",
    "\n",
    "stats.shapiro(a_sample)\n",
    "\n",
    "#p>0.05 значит, мы не можем отвергнуть Ho о том, что это распределение нормальное \n"
   ]
  },
  {
   "cell_type": "code",
   "execution_count": 44,
   "id": "80bd4478",
   "metadata": {},
   "outputs": [
    {
     "data": {
      "text/plain": [
       "ShapiroResult(statistic=0.9980798363685608, pvalue=0.31768906116485596)"
      ]
     },
     "execution_count": 44,
     "metadata": {},
     "output_type": "execute_result"
    }
   ],
   "source": [
    "#p>0.05 значит, мы не можем отвергнуть Ho о том, что это распределение нормальное \n",
    "\n",
    "stats.shapiro(b_sample)\n"
   ]
  },
  {
   "cell_type": "code",
   "execution_count": 46,
   "id": "72f451f9",
   "metadata": {},
   "outputs": [
    {
     "data": {
      "text/plain": [
       "ShapiroResult(statistic=0.9981185793876648, pvalue=0.3359004259109497)"
      ]
     },
     "execution_count": 46,
     "metadata": {},
     "output_type": "execute_result"
    }
   ],
   "source": [
    "#p>0.05 значит, мы не можем отвергнуть Ho о том, что это распределение нормальное \n",
    "\n",
    "stats.shapiro(c_sample)\n"
   ]
  },
  {
   "cell_type": "code",
   "execution_count": null,
   "id": "bcfc3c5c",
   "metadata": {},
   "outputs": [],
   "source": [
    "#Теперь проводим тест, после оценки на гомогенность и нормальность \n",
    "\n",
    "#Вопрос: является ли статистически значимым различие между средним количеством блюд в зависимости от формата картинки\n"
   ]
  },
  {
   "cell_type": "code",
   "execution_count": 60,
   "id": "fccf3d36",
   "metadata": {},
   "outputs": [
    {
     "data": {
      "text/plain": [
       "F_onewayResult(statistic=2886.166657438961, pvalue=0.0)"
      ]
     },
     "execution_count": 60,
     "metadata": {},
     "output_type": "execute_result"
    }
   ],
   "source": [
    "#Используем тест Фишера - т.к. у нас одна независимая переменная (однофакторный дисперсионный анализ)\n",
    "\n",
    "#H0 - что у хотя бы 2 групп есть статистически значимые различия\n",
    "\n",
    "f_oneway(df_1.query('group==\"A\"').events,\n",
    "    df_1.query('group==\"B\"').events,\n",
    "    df_1.query('group==\"C\"').events)\n",
    "\n",
    "#p=0.0  - значит мы не можем отвергнуть H0  том, что хотя бы у двух групп есть статистически значимые различия в средних"
   ]
  },
  {
   "cell_type": "code",
   "execution_count": 71,
   "id": "e4631905",
   "metadata": {},
   "outputs": [
    {
     "name": "stdout",
     "output_type": "stream",
     "text": [
      "Multiple Comparison of Means - Tukey HSD, FWER=0.05 \n",
      "====================================================\n",
      "group1 group2 meandiff p-adj  lower    upper  reject\n",
      "----------------------------------------------------\n",
      "     A      B    8.034 0.001   7.7038  8.3642   True\n",
      "     A      C  -2.1093 0.001  -2.4395 -1.7791   True\n",
      "     B      C -10.1433 0.001 -10.4735 -9.8131   True\n",
      "----------------------------------------------------\n"
     ]
    }
   ],
   "source": [
    "#Теперь необходимо определить, между какими именно группами есть статистически значимые различия(тест Тьюки)\n",
    "\n",
    "print(pairwise_tukeyhsd(df_1['events'],groups = df_1['group']).summary())\n",
    "\n",
    "\n",
    "#Мы видим meandiff(group2 - group1)6 lower/upper(граница дов. интервала)\n",
    "\n",
    "#teject=True во всех трех группах означает, что мы отвергаем H0 о том, что стат. значимых различий нет"
   ]
  },
  {
   "cell_type": "code",
   "execution_count": 80,
   "id": "606bda15",
   "metadata": {},
   "outputs": [
    {
     "data": {
      "text/plain": [
       "Text(0, 0.5, 'среднее число покупок')"
      ]
     },
     "execution_count": 80,
     "metadata": {},
     "output_type": "execute_result"
    },
    {
     "data": {
      "image/png": "[encoded data removed]",
      "text/plain": [
       "<Figure size 864x432 with 1 Axes>"
      ]
     },
     "metadata": {
      "needs_background": "light"
     },
     "output_type": "display_data"
    }
   ],
   "source": [
    "#Визуализируем полученные данные \n",
    "\n",
    "plt.figure(figsize=(12,6))\n",
    "sns.pointplot(x = 'group', y = 'events', data = df_1,capsize = .1)\n",
    "plt.title('Число покупок и фотографии еды')\n",
    "plt.xlabel('Формат картинки')\n",
    "plt.ylabel('среднее число покупок')\n",
    "\n",
    "#В группе B наибольшее число покупок"
   ]
  },
  {
   "cell_type": "code",
   "execution_count": null,
   "id": "3364bd9c",
   "metadata": {},
   "outputs": [],
   "source": [
    "#Вывод: будем использовать квадратные картинки(group B), т.к. анализ показал, что различия между средними значениями\n",
    "# стат. значимы в сравнении с остальными группами(самое большое значение)"
   ]
  },
  {
   "cell_type": "code",
   "execution_count": 81,
   "id": "e4929f90",
   "metadata": {},
   "outputs": [
    {
     "data": {
      "text/html": [
       "<div>\n",
       "<style scoped>\n",
       "    .dataframe tbody tr th:only-of-type {\n",
       "        vertical-align: middle;\n",
       "    }\n",
       "\n",
       "    .dataframe tbody tr th {\n",
       "        vertical-align: top;\n",
       "    }\n",
       "\n",
       "    .dataframe thead th {\n",
       "        text-align: right;\n",
       "    }\n",
       "</style>\n",
       "<table border=\"1\" class=\"dataframe\">\n",
       "  <thead>\n",
       "    <tr style=\"text-align: right;\">\n",
       "      <th></th>\n",
       "      <th>id</th>\n",
       "      <th>group</th>\n",
       "      <th>segment</th>\n",
       "      <th>events</th>\n",
       "    </tr>\n",
       "  </thead>\n",
       "  <tbody>\n",
       "    <tr>\n",
       "      <th>0</th>\n",
       "      <td>83440</td>\n",
       "      <td>test</td>\n",
       "      <td>high</td>\n",
       "      <td>78.0</td>\n",
       "    </tr>\n",
       "    <tr>\n",
       "      <th>1</th>\n",
       "      <td>96723</td>\n",
       "      <td>test</td>\n",
       "      <td>high</td>\n",
       "      <td>71.0</td>\n",
       "    </tr>\n",
       "    <tr>\n",
       "      <th>2</th>\n",
       "      <td>68719</td>\n",
       "      <td>test</td>\n",
       "      <td>high</td>\n",
       "      <td>80.0</td>\n",
       "    </tr>\n",
       "    <tr>\n",
       "      <th>3</th>\n",
       "      <td>50399</td>\n",
       "      <td>test</td>\n",
       "      <td>high</td>\n",
       "      <td>80.0</td>\n",
       "    </tr>\n",
       "    <tr>\n",
       "      <th>4</th>\n",
       "      <td>95613</td>\n",
       "      <td>test</td>\n",
       "      <td>high</td>\n",
       "      <td>78.0</td>\n",
       "    </tr>\n",
       "  </tbody>\n",
       "</table>\n",
       "</div>"
      ],
      "text/plain": [
       "      id group segment  events\n",
       "0  83440  test    high    78.0\n",
       "1  96723  test    high    71.0\n",
       "2  68719  test    high    80.0\n",
       "3  50399  test    high    80.0\n",
       "4  95613  test    high    78.0"
      ]
     },
     "execution_count": 81,
     "metadata": {},
     "output_type": "execute_result"
    }
   ],
   "source": [
    "#Во втором эксперименте требуется проверить, как пользователи отреагируют на \n",
    "#изменение формата кнопки оформления заказа, с разбивкой по сегменту клиента.\n",
    "\n",
    "df_2.head()"
   ]
  },
  {
   "cell_type": "code",
   "execution_count": null,
   "id": "dc2ebdcf",
   "metadata": {},
   "outputs": [],
   "source": [
    "#Будем использовать множественный дисперсионный анализ, т.к. имеются 2 номинативные переменные(group,segment)\n",
    "\n",
    "#"
   ]
  },
  {
   "cell_type": "code",
   "execution_count": 87,
   "id": "2acccba3",
   "metadata": {},
   "outputs": [
    {
     "data": {
      "text/plain": [
       "<AxesSubplot:xlabel='events'>"
      ]
     },
     "execution_count": 87,
     "metadata": {},
     "output_type": "execute_result"
    },
    {
     "data": {
      "image/png": "[encoded data removed]",
      "text/plain": [
       "<Figure size 432x288 with 1 Axes>"
      ]
     },
     "metadata": {
      "needs_background": "light"
     },
     "output_type": "display_data"
    }
   ],
   "source": [
    "#Для начала визуализируем распределение events для контрольной и тестовой групп.\n",
    "\n",
    "sns.distplot(df_2.query('group==\"control\"').events,kde=False)\n",
    "\n",
    "sns.distplot(df_2.query('group==\"test\"').events,kde=False)\n"
   ]
  },
  {
   "cell_type": "code",
   "execution_count": 89,
   "id": "3444be66",
   "metadata": {},
   "outputs": [
    {
     "data": {
      "text/plain": [
       "group    segment\n",
       "control  high       59.970800\n",
       "         low        20.031575\n",
       "test     high       69.938500\n",
       "         low        33.025925\n",
       "Name: events, dtype: float64"
      ]
     },
     "execution_count": 89,
     "metadata": {},
     "output_type": "execute_result"
    }
   ],
   "source": [
    "#Посчитайте среднее, медиану и стандартное отклонение events в разбивке по группе и по сегменту пользователя. \n",
    "\n",
    "df_2.groupby(['group','segment']).events.mean()"
   ]
  },
  {
   "cell_type": "code",
   "execution_count": 90,
   "id": "08e2d058",
   "metadata": {},
   "outputs": [
    {
     "data": {
      "text/plain": [
       "group    segment\n",
       "control  high       7.805347\n",
       "         low        4.473576\n",
       "test     high       8.403974\n",
       "         low        5.720845\n",
       "Name: events, dtype: float64"
      ]
     },
     "execution_count": 90,
     "metadata": {},
     "output_type": "execute_result"
    }
   ],
   "source": [
    "df_2.groupby(['group','segment']).events.std()"
   ]
  },
  {
   "cell_type": "code",
   "execution_count": 91,
   "id": "d74048e3",
   "metadata": {},
   "outputs": [
    {
     "data": {
      "text/plain": [
       "group    segment\n",
       "control  high       60.0\n",
       "         low        20.0\n",
       "test     high       70.0\n",
       "         low        33.0\n",
       "Name: events, dtype: float64"
      ]
     },
     "execution_count": 91,
     "metadata": {},
     "output_type": "execute_result"
    }
   ],
   "source": [
    "df_2.groupby(['group','segment']).events.median()"
   ]
  },
  {
   "cell_type": "code",
   "execution_count": 96,
   "id": "ee2c30bf",
   "metadata": {},
   "outputs": [
    {
     "name": "stdout",
     "output_type": "stream",
     "text": [
      "                     sum_sq       df              F         PR(>F)\n",
      "group          3.837195e+06      1.0  112031.864119   0.000000e+00\n",
      "segment        2.362480e+07      1.0  689756.377485   0.000000e+00\n",
      "segment:group  3.664244e+04      1.0    1069.823273  2.060261e-233\n",
      "Residual       3.424956e+06  99996.0            NaN            NaN\n"
     ]
    }
   ],
   "source": [
    "#Видим, что среднее и медианное значение в обоих сегментах(high,low) выше в тестовой группе в сравнении с контролем\n",
    "\n",
    "#Вопрос: эти различия статистически значимые или нет?\n",
    "\n",
    "#т.к.у нас 2 номинативные переменные(группа и сегмент группы) и 1 дискретная(событие) - \n",
    "#Проводим множественный дисперсионный анализ(anova)\n",
    "\n",
    "#Для начала выводим формулу: events~group + segment +segment:group\n",
    "#Затем строим модель по нашей формуле\n",
    "#Затем проводим сам анализ anova\n",
    "\n",
    "model = smf.ols(formula='events~group + segment +segment:group',data = df_2).fit()  #fit() - строит модель\n",
    "\n",
    "aov_table = anova_lm(model,typ = 2) #typ = 2 - 2 тип суммы квадратов\n",
    "\n",
    "print(aov_table)"
   ]
  },
  {
   "cell_type": "code",
   "execution_count": 100,
   "id": "da368a23",
   "metadata": {},
   "outputs": [
    {
     "data": {
      "text/html": [
       "<div>\n",
       "<style scoped>\n",
       "    .dataframe tbody tr th:only-of-type {\n",
       "        vertical-align: middle;\n",
       "    }\n",
       "\n",
       "    .dataframe tbody tr th {\n",
       "        vertical-align: top;\n",
       "    }\n",
       "\n",
       "    .dataframe thead th {\n",
       "        text-align: right;\n",
       "    }\n",
       "</style>\n",
       "<table border=\"1\" class=\"dataframe\">\n",
       "  <thead>\n",
       "    <tr style=\"text-align: right;\">\n",
       "      <th></th>\n",
       "      <th>id</th>\n",
       "      <th>group</th>\n",
       "      <th>segment</th>\n",
       "      <th>events</th>\n",
       "      <th>combination</th>\n",
       "    </tr>\n",
       "  </thead>\n",
       "  <tbody>\n",
       "    <tr>\n",
       "      <th>0</th>\n",
       "      <td>83440</td>\n",
       "      <td>test</td>\n",
       "      <td>high</td>\n",
       "      <td>78.0</td>\n",
       "      <td>test \\ high</td>\n",
       "    </tr>\n",
       "    <tr>\n",
       "      <th>1</th>\n",
       "      <td>96723</td>\n",
       "      <td>test</td>\n",
       "      <td>high</td>\n",
       "      <td>71.0</td>\n",
       "      <td>test \\ high</td>\n",
       "    </tr>\n",
       "    <tr>\n",
       "      <th>2</th>\n",
       "      <td>68719</td>\n",
       "      <td>test</td>\n",
       "      <td>high</td>\n",
       "      <td>80.0</td>\n",
       "      <td>test \\ high</td>\n",
       "    </tr>\n",
       "    <tr>\n",
       "      <th>3</th>\n",
       "      <td>50399</td>\n",
       "      <td>test</td>\n",
       "      <td>high</td>\n",
       "      <td>80.0</td>\n",
       "      <td>test \\ high</td>\n",
       "    </tr>\n",
       "    <tr>\n",
       "      <th>4</th>\n",
       "      <td>95613</td>\n",
       "      <td>test</td>\n",
       "      <td>high</td>\n",
       "      <td>78.0</td>\n",
       "      <td>test \\ high</td>\n",
       "    </tr>\n",
       "  </tbody>\n",
       "</table>\n",
       "</div>"
      ],
      "text/plain": [
       "      id group segment  events  combination\n",
       "0  83440  test    high    78.0  test \\ high\n",
       "1  96723  test    high    71.0  test \\ high\n",
       "2  68719  test    high    80.0  test \\ high\n",
       "3  50399  test    high    80.0  test \\ high\n",
       "4  95613  test    high    78.0  test \\ high"
      ]
     },
     "execution_count": 100,
     "metadata": {},
     "output_type": "execute_result"
    }
   ],
   "source": [
    "#Создадим колонку из комбинации группа/сегмент, для дальнейшего удобства\n",
    "\n",
    "df_2['combination'] = df_2.group + ' \\ '  + df_2.segment  #обязательно 2 пробела ' \\ '\n",
    "df_2.head()"
   ]
  },
  {
   "cell_type": "code",
   "execution_count": 101,
   "id": "645ce7cc",
   "metadata": {},
   "outputs": [
    {
     "name": "stdout",
     "output_type": "stream",
     "text": [
      "        Multiple Comparison of Means - Tukey HSD, FWER=0.05         \n",
      "====================================================================\n",
      "    group1         group2    meandiff p-adj  lower    upper   reject\n",
      "--------------------------------------------------------------------\n",
      "control \\ high control \\ low -39.9392 0.001 -40.1073 -39.7711   True\n",
      "control \\ high   test \\ high   9.9677 0.001   9.7551  10.1803   True\n",
      "control \\ high    test \\ low -26.9449 0.001  -27.113 -26.7768   True\n",
      " control \\ low   test \\ high  49.9069 0.001  49.7388   50.075   True\n",
      " control \\ low    test \\ low  12.9944 0.001   12.888  13.1007   True\n",
      "   test \\ high    test \\ low -36.9126 0.001 -37.0807 -36.7445   True\n",
      "--------------------------------------------------------------------\n"
     ]
    }
   ],
   "source": [
    "#т.к. при множестевенном дисперсионном анализе повышается риск ошибки первого рода - проводим тест Тьюки\n",
    "\n",
    "print(pairwise_tukeyhsd(df_2['events'], groups = df_2['combination']).summary())\n",
    "\n",
    "\n",
    "#regect во всех группах true - то есть отвергаем H0 о том, что стат. значимых различий между средними нет \n",
    "#разница средних в test group в обоих сегментах(high and low) - положительная и эти значения стат. значимы\n",
    "# то есть действительно наблюдаем увеличение событий в тестовой группе при изменении формата кнопки\n"
   ]
  },
  {
   "cell_type": "code",
   "execution_count": 107,
   "id": "1821021b",
   "metadata": {},
   "outputs": [
    {
     "data": {
      "image/png": "[encoded data removed]",
      "text/plain": [
       "<Figure size 432x288 with 1 Axes>"
      ]
     },
     "metadata": {
      "needs_background": "light"
     },
     "output_type": "display_data"
    }
   ],
   "source": [
    "#Визуализируем результаты с помощью pointplot\n",
    "\n",
    "sns.pointplot(x = 'group', y = 'events', hue = 'segment', data = df_2,capsize = .1)\n",
    "plt.xlabel('Группа')\n",
    "plt.ylabel('Число покупок')\n",
    "plt.show()"
   ]
  },
  {
   "cell_type": "code",
   "execution_count": null,
   "id": "6f731c6f",
   "metadata": {},
   "outputs": [],
   "source": []
  }
 ],
 "metadata": {
  "kernelspec": {
   "display_name": "Python 3",
   "language": "python",
   "name": "python3"
  },
  "language_info": {
   "codemirror_mode": {
    "name": "ipython",
    "version": 3
   },
   "file_extension": ".py",
   "mimetype": "text/x-python",
   "name": "python",
   "nbconvert_exporter": "python",
   "pygments_lexer": "ipython3",
   "version": "3.8.8"
  }
 },
 "nbformat": 4,
 "nbformat_minor": 5
}
